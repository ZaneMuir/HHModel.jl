{
 "cells": [
  {
   "cell_type": "code",
   "execution_count": null,
   "metadata": {},
   "outputs": [],
   "source": [
    "using DifferentialEquations\n",
    "using Plots\n",
    "gr(fmt=\"png\", size=(800, 300))\n",
    "\n",
    "include(\"../src/HHModel.jl\")"
   ]
  },
  {
   "cell_type": "code",
   "execution_count": null,
   "metadata": {},
   "outputs": [],
   "source": [
    "# stimulus protocol\n",
    "current_step = (t, param) -> begin\n",
    "    (param.start < t)&(t < param.dur + param.start) ? param.step : 0\n",
    "end"
   ]
  },
  {
   "cell_type": "code",
   "execution_count": null,
   "metadata": {},
   "outputs": [],
   "source": [
    "# biophysical model setup ==> usu. for maximum conductance\n",
    "\n",
    "htk = HHModel.high_voltage_gated_potassium(2.8)\n",
    "ltk = HHModel.low_voltage_gated_potassium(2.1, subtype=:kv1)\n",
    "# ik = HHModel.hh_potassium()\n",
    "ina = HHModel.hh_sodium(13.0)\n",
    "ih = HHModel.ihcurrent(0.83)\n",
    "il = HHModel.leakage(0.03)\n",
    "\n",
    "# _model = [htk, ltk, ina, ih, il]\n",
    "_model = [htk, ina, ih, il]\n",
    "_model_sim = HHModel.simpleConductanceModel(_model, current_step, C=0.9)"
   ]
  },
  {
   "cell_type": "code",
   "execution_count": null,
   "metadata": {},
   "outputs": [],
   "source": [
    "# running the simulation\n",
    "_p = (E=(sodium=81.27, potassium=-80.78, ih=-26.0, leak=-65.0, syn=3.0), \n",
    "      stim=(start=200, step=1, dur=800),)\n",
    "\n",
    "tspan = (0.0, 2000.0)\n",
    "v0 = -60.0\n",
    "u0 = HHModel.setup_init(_model, v0)\n",
    "\n",
    "prob = ODEProblem(_model_sim, u0, tspan, _p)\n",
    "@time sol = solve(prob, Tsit5(), dt=0.1)\n",
    "\n",
    "# preview voltage\n",
    "plot(sol, vars=(1), legend=nothing, ylim=(-150, 80))\n",
    "# savefig(\"demo2.svg\")"
   ]
  },
  {
   "cell_type": "code",
   "execution_count": null,
   "metadata": {},
   "outputs": [],
   "source": [
    "# preview current\n",
    "_trange = 150:0.1:1000\n",
    "_trace = HHModel.current_decompose(sol, _model, _trange, _p)\n",
    "plot()\n",
    "for (key, val) in _trace\n",
    "    if key == \"voltage\"\n",
    "        continue\n",
    "    end\n",
    "    plot!(_trange, val, label=key)\n",
    "end\n",
    "plot!()\n",
    "# savefig(\"demo2_current.svg\")"
   ]
  },
  {
   "cell_type": "code",
   "execution_count": null,
   "metadata": {},
   "outputs": [],
   "source": [
    "# preview dynamics\n",
    "plot(sol, vars=(1,2), size=(500, 500), legend=nothing)"
   ]
  },
  {
   "cell_type": "markdown",
   "metadata": {},
   "source": [
    "---"
   ]
  },
  {
   "cell_type": "code",
   "execution_count": null,
   "metadata": {},
   "outputs": [],
   "source": [
    "# sweep protocol\n",
    "\n",
    "_current_steps = -5:1:5\n",
    "\n",
    "plot(legend=nothing, ylim=(-150, 80), xlim=(190, 250))\n",
    "\n",
    "@time for _i_step in _current_steps\n",
    "    _p = (E=(sodium=81.27, potassium=-80.78, ih=-26, leak=-65, syn=3), \n",
    "      stim=(start=200, step=_i_step, dur=800),)\n",
    "    prob = ODEProblem(_model_sim, u0, tspan, _p)\n",
    "    sol = solve(prob, Tsit5(), dt=0.1)\n",
    "\n",
    "    plot!(sol, vars=(1), color=:black, alpha=0.3)\n",
    "end\n",
    "\n",
    "plot!()"
   ]
  },
  {
   "cell_type": "code",
   "execution_count": null,
   "metadata": {},
   "outputs": [],
   "source": []
  }
 ],
 "metadata": {
  "kernelspec": {
   "display_name": "Julia 1.2.0",
   "language": "julia",
   "name": "julia-1.2"
  },
  "language_info": {
   "file_extension": ".jl",
   "mimetype": "application/julia",
   "name": "julia",
   "version": "1.2.0"
  }
 },
 "nbformat": 4,
 "nbformat_minor": 4
}
