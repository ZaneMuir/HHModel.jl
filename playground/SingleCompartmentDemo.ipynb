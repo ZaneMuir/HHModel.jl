{
 "cells": [
  {
   "cell_type": "markdown",
   "metadata": {},
   "source": [
    "# import packages and define stimulus protocols"
   ]
  },
  {
   "cell_type": "code",
   "execution_count": null,
   "metadata": {},
   "outputs": [],
   "source": [
    "# using MAT\n",
    "using ProgressMeter\n",
    "using Printf\n",
    "using MultivariateStats\n",
    "using DifferentialEquations\n",
    "using Plots\n",
    "gr(fmt=\"png\", size=(1600, 600))\n",
    "\n",
    "include(\"../src/HHModel.jl\")\n",
    "\n",
    "# stimulus protocol\n",
    "current_step = (t, param) -> begin\n",
    "    (param.start < t)&(t < param.dur + param.start) ? param.step + param.holding + param.noise * randn() : param.holding + param.holding + param.noise * randn()\n",
    "end"
   ]
  },
  {
   "cell_type": "markdown",
   "metadata": {},
   "source": [
    "## setting up biophysical parameters"
   ]
  },
  {
   "cell_type": "code",
   "execution_count": null,
   "metadata": {},
   "outputs": [],
   "source": [
    "# type one in matlab - sustained\n",
    "\n",
    "# biophysical model setup ==> usu. for maximum conductance\n",
    "htk = HHModel.high_voltage_gated_potassium(2.8, phi=0.85)\n",
    "# ltk = HHModel.low_voltage_gated_potassium(0.65, subtype=:kv1)\n",
    "# ik = HHModel.hh_potassium(10.0)\n",
    "ina = HHModel.hh_sodium(20.0)\n",
    "ih = HHModel.ihcurrent(0.91, level=1)\n",
    "il = HHModel.leakage(0.03)\n",
    "\n",
    "_model = [htk, ina, ih, il]\n",
    "_model_sim_cc = HHModel.CurrentClampSimulation(_model, current_step, C=0.9); # current clamp"
   ]
  },
  {
   "cell_type": "code",
   "execution_count": null,
   "metadata": {},
   "outputs": [],
   "source": [
    "# type two in matlab -- transient\n",
    "\n",
    "# biophysical model setup ==> usu. for maximum conductance\n",
    "htk = HHModel.high_voltage_gated_potassium(2.8, phi=0.85)\n",
    "ltk = HHModel.low_voltage_gated_potassium(1.1, subtype=:kv1)\n",
    "# ik = HHModel.hh_potassium(10.0)\n",
    "ina = HHModel.hh_sodium(13.0)\n",
    "ih = HHModel.ihcurrent(0.91, level=1)\n",
    "il = HHModel.leakage(0.03)\n",
    "\n",
    "_model = [htk, ltk, ina, ih, il]\n",
    "_model_sim_cc = HHModel.CurrentClampSimulation(_model, current_step, C=0.9); # current clamp"
   ]
  },
  {
   "cell_type": "code",
   "execution_count": null,
   "metadata": {},
   "outputs": [],
   "source": [
    "# custom parameters\n",
    "# biophysical model setup ==> usu. for maximum conductance\n",
    "htk = HHModel.high_voltage_gated_potassium(1.8)\n",
    "ltk = HHModel.low_voltage_gated_potassium(0.1, subtype=:kv1)\n",
    "# ik = HHModel.hh_potassium(10.0)\n",
    "ina = HHModel.hh_sodium(13.0)\n",
    "ih = HHModel.ihcurrent(0.3, level=1)\n",
    "il = HHModel.leakage(0.2)\n",
    "\n",
    "_model = [htk, ltk, ina, ih, il]\n",
    "# _model = [htk, ina, ih, il]\n",
    "_model_sim_cc = HHModel.CurrentClampSimulation(_model, current_step, C=0.9); # current clamp"
   ]
  },
  {
   "cell_type": "markdown",
   "metadata": {},
   "source": [
    "---\n",
    "## running the simulation"
   ]
  },
  {
   "cell_type": "code",
   "execution_count": null,
   "metadata": {},
   "outputs": [],
   "source": [
    "# running the simulation\n",
    "_p = (E=(sodium=82.0, potassium=-81.0, ih=-46.0, leak=-65.0, syn=3.0), \n",
    "      stim=(start=1500, step=-0.2, holding=0, dur=500, noise=0),)\n",
    "\n",
    "# ih.h.Vhalf = -60.0\n",
    "# HHModel.update!(ih)\n",
    "\n",
    "tspan = (0.0, 2500.0)\n",
    "v0 = -60.9766\n",
    "v0 = -65;\n",
    "u0 = HHModel.setup_init(_model, v0)\n",
    "\n",
    "prob = ODEProblem(_model_sim_cc, u0, tspan, _p)\n",
    "@time sol = solve(prob, Tsit5(), reltol=1e-8, abstol=1e-8)\n",
    "\n",
    "# preview voltage trace\n",
    "plot(sol, vars=(1), legend=nothing)\n",
    "# savefig(\"demo2.svg\")"
   ]
  },
  {
   "cell_type": "code",
   "execution_count": null,
   "metadata": {},
   "outputs": [],
   "source": [
    "# preview current\n",
    "_trange = 400:0.1:1000\n",
    "_trace = HHModel.current_decompose(sol, _model, _trange, _p)\n",
    "plot(xlim=(_trange[1], _trange[end]), legend=:right)\n",
    "for (key, val) in _trace\n",
    "    if key == \"voltage\"\n",
    "        continue\n",
    "    end\n",
    "    plot!(_trange, val, label=key, linewidth=3)\n",
    "end\n",
    "plot!()\n",
    "# savefig(\"demo2_current.svg\")"
   ]
  },
  {
   "cell_type": "markdown",
   "metadata": {},
   "source": [
    "---"
   ]
  },
  {
   "cell_type": "code",
   "execution_count": null,
   "metadata": {},
   "outputs": [],
   "source": [
    "# preview dynamics\n",
    "\n",
    "# dynamics between membrane potential and a particular kinetic variable\n",
    "plot(sol, vars=(1,2), size=(500, 500), legend=nothing)"
   ]
  },
  {
   "cell_type": "code",
   "execution_count": null,
   "metadata": {},
   "outputs": [],
   "source": [
    "_down_array"
   ]
  },
  {
   "cell_type": "code",
   "execution_count": null,
   "metadata": {},
   "outputs": [],
   "source": [
    "# PCA projection\n",
    "_var_array = hcat(sol(500:0.1:2000).u...)[2:end-1, :]\n",
    "\n",
    "_down = fit(PCA, _var_array, );\n",
    "\n",
    "_down_array = transform(_down, _var_array);\n",
    "\n",
    "plot(_down_array[1,:], _down_array[2, :], size=(500, 500), legend=nothing)"
   ]
  },
  {
   "cell_type": "markdown",
   "metadata": {},
   "source": [
    "---"
   ]
  },
  {
   "cell_type": "code",
   "execution_count": null,
   "metadata": {},
   "outputs": [],
   "source": [
    "current_step_vec = (t, param) -> begin\n",
    "    _ans = ones(size(t)) .* param.holding\n",
    "    _ans[(param.start .< t) .& (t .< param.dur+param.start)] .+= param.step\n",
    "    _ans\n",
    "end\n",
    "\n",
    "# sweep protocol\n",
    "_sweep_protocol = [\n",
    "    (\"cc_ih_1_ikl_0_ih_0\", 0, 0),\n",
    "    (\"cc_ih_1_ikl_0.35_ih_0\", 0.35, 0),\n",
    "    (\"cc_ih_1_ikl_0.65_ih_0\", 0.65, 0),\n",
    "    (\"cc_ih_1_ikl_1.1_ih_0\", 1.1, 0),\n",
    "    (\"cc_ih_1_ikl_0_ih_0.01\", 0, 0.01),\n",
    "    (\"cc_ih_1_ikl_0.35_ih_0.01\", 0.35, 0.01),\n",
    "    (\"cc_ih_1_ikl_0.65_ih_0.01\", 0.65, 0.01),\n",
    "    (\"cc_ih_1_ikl_1.1_ih_0.01\", 1.1, 0),\n",
    "    (\"cc_ih_1_ikl_0_ih_0.1\", 0, 0.1),\n",
    "    (\"cc_ih_1_ikl_0.35_ih_0.1\", 0.35, 0.1),\n",
    "    (\"cc_ih_1_ikl_0.65_ih_0.1\", 0.65, 0.1),\n",
    "    (\"cc_ih_1_ikl_1.1_ih_0.1\", 1.1, 0.1),\n",
    "    (\"cc_ih_1_ikl_0_ih_0.5\", 0, 0.5),\n",
    "    (\"cc_ih_1_ikl_0.35_ih_0.5\", 0.35, 0.5),\n",
    "    (\"cc_ih_1_ikl_0.65_ih_0.5\", 0.65, 0.5),\n",
    "    (\"cc_ih_1_ikl_1.1_ih_0.5\", 1.1, 0.5),\n",
    "    (\"cc_ih_1_ikl_0_ih_0.9\", 0, 0.9),\n",
    "    (\"cc_ih_1_ikl_0.35_ih_0.9\", 0.35, 0.9),\n",
    "    (\"cc_ih_1_ikl_0.65_ih_0.9\", 0.65, 0.9),\n",
    "    (\"cc_ih_1_ikl_1.1_ih_0.9\", 1.1, 0.9),\n",
    "]\n",
    "_pbar = Progress(length(_sweep_protocol))\n",
    "for _each in _sweep_protocol\n",
    "_export_name = _each[1]\n",
    "_current_steps = -1:0.2:1.0\n",
    "_tspan = 1200:0.01:2500\n",
    "_current = zeros((length(_tspan), length(_current_steps)))\n",
    "_voltage = zeros(size(_current))\n",
    "\n",
    "ltk.g = _each[2]\n",
    "ih.g = _each[3]\n",
    "\n",
    "plot(legend=nothing, ylim=(-150, 80), xlim=(190, 250))\n",
    "\n",
    "for (_idx, _i_step) in enumerate(_current_steps)\n",
    "    _p = (E=(sodium=81.27, potassium=-80.78, ih=-26, leak=-65, syn=3), \n",
    "      stim=(start=1400, step=_i_step, holding=0, dur=600, noise=0),)\n",
    "    prob = ODEProblem(_model_sim_cc, u0, tspan, _p)\n",
    "    sol = solve(prob, Tsit5(), dt=0.1)\n",
    "\n",
    "    _current[:, _idx] = current_step_vec(_tspan, _p.stim) .* 10\n",
    "    _voltage[:, _idx] = hcat(sol(_tspan)...)[1, :]\n",
    "    \n",
    "    plot!(sol, vars=(1), color=:black, alpha=0.3)\n",
    "end\n",
    "\n",
    "    HHModel.export_as_atf(_export_name*\".atf\", _tspan .- 1200, _current, _voltage)\n",
    "    HHModel.export_as_hdf5(_export_name*\".h5\", _tspan, _current, _voltage)\n",
    "\n",
    "# plot!(ylim=(-100, -50))\n",
    "    next!(_pbar)\n",
    "end"
   ]
  },
  {
   "cell_type": "markdown",
   "metadata": {},
   "source": [
    "voltage clamp check out the `RCCircuit.ipynb`"
   ]
  }
 ],
 "metadata": {
  "kernelspec": {
   "display_name": "Julia 1.2.0",
   "language": "julia",
   "name": "julia-1.2"
  },
  "language_info": {
   "file_extension": ".jl",
   "mimetype": "application/julia",
   "name": "julia",
   "version": "1.2.0"
  }
 },
 "nbformat": 4,
 "nbformat_minor": 4
}
