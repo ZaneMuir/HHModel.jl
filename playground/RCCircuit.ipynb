{
 "cells": [
  {
   "cell_type": "code",
   "execution_count": null,
   "metadata": {},
   "outputs": [],
   "source": [
    "using DifferentialEquations\n",
    "using Printf\n",
    "using Plots\n",
    "gr()\n",
    "\n",
    "include(\"../src/HHModel.jl\")"
   ]
  },
  {
   "cell_type": "markdown",
   "metadata": {},
   "source": [
    "# charging the RC circuit\n",
    "\n",
    "$$ \\frac{dV_{\\text{c}}}{dt} = \\frac{E - V_{\\text{c}}}{RC}$$"
   ]
  },
  {
   "cell_type": "code",
   "execution_count": null,
   "metadata": {},
   "outputs": [],
   "source": [
    "potential(t) = (5 < t < 25) ? 10 : 0\n",
    "function RCCircuit(du, u, p, t)\n",
    "    du[1] = (potential(t) - u[1]) / (p.R * p.C)\n",
    "    u[2] = (potential(t) - u[1]) / p.R\n",
    "end\n",
    "\n",
    "u0 = [0.0, 0.0]\n",
    "tspan = (0.0, 50.0)\n",
    "prob = ODEProblem(RCCircuit, u0, tspan, (R=1, C=0.9))\n",
    "sol = solve(prob, Tsit5(), reltol=1e-8, abstol=1e-8);\n",
    "\n",
    "fig_a = plot(sol, vars=(1), legend=nothing)"
   ]
  },
  {
   "cell_type": "code",
   "execution_count": null,
   "metadata": {},
   "outputs": [],
   "source": [
    "_tspan = 0:0.01:50\n",
    "_ans = hcat(sol(_tspan)...)\n",
    "_vol = _ans[1, :]\n",
    "_cur = _ans[2, :];\n",
    "\n",
    "plot(_tspan, (potential.(_tspan) .- _vol) ./ 0.9, ylabel=\"\\$\\$\\\\mu A / cm^2\\$\\$\")\n",
    "#plot!(sol, vars=(2), legend=nothing)"
   ]
  },
  {
   "cell_type": "markdown",
   "metadata": {},
   "source": [
    "# RCCircuit2\n",
    "\n",
    "$$ \\frac{dV_{\\text{c}}}{dt} = \\frac{E - V_{\\text{c}}}{R_s C} - \\frac{V_{\\text{c}}}{R_m C}$$"
   ]
  },
  {
   "cell_type": "code",
   "execution_count": null,
   "metadata": {},
   "outputs": [],
   "source": [
    "voltage_step = (t, param) -> (param.start < t < param.start + param.duration) ? param.holding+param.step : param.holding\n",
    "voltage_step_vec = (t, param) -> begin\n",
    "    _ans = ones(size(t)) .* param.holding\n",
    "    _ans[(param.start .< t) .& (t .< param.start + param.duration)] .= param.holding + param.step\n",
    "    _ans\n",
    "end\n",
    "\n",
    "# type two in matlab -- transient\n",
    "\n",
    "# biophysical model setup ==> usu. for maximum conductance\n",
    "ikh = HHModel.high_voltage_gated_potassium(2.8, phi=0.85)\n",
    "ikl = HHModel.low_voltage_gated_potassium(1.1, subtype=:kv1)\n",
    "# ik = HHModel.hh_potassium(10.0)\n",
    "ina = HHModel.hh_sodium(13.0)\n",
    "# ih = HHModel.ihcurrent(0.91, level=1)\n",
    "il = HHModel.leakage(0.01)\n",
    "\n",
    "_model = [ikh, ikl, ina, il]\n",
    "_model_sim_vc = HHModel.VoltageClampSimulation(_model, voltage_step, C=0.9, Rs=6.0); # current clamp"
   ]
  },
  {
   "cell_type": "code",
   "execution_count": null,
   "metadata": {},
   "outputs": [],
   "source": [
    "_v_holding = -70\n",
    "u0 = HHModel.setup_init(_model, _v_holding)\n",
    "tspan = (0.0, 1500.0)\n",
    "param = (E=(sodium=82.0, potassium=-81.0, ih=-46.0, leak=-65.0, syn=3.0),\n",
    "    stim=(holding=_v_holding, step=2, start=500, duration=100)\n",
    ")\n",
    "\n",
    "prob = ODEProblem(_model_sim_vc, u0, tspan, param)\n",
    "sol = solve(prob, Tsit5(), reltol=1e-8, abstol=1e-8);\n",
    "\n",
    "_tspan = 400:0.01:800\n",
    "_vol = hcat(sol(_tspan)...)[1, :]\n",
    "_hol = voltage_step_vec(_tspan, param.stim)\n",
    "_cur = (_hol .- _vol) ./ (6.0)\n",
    "\n",
    "plot(_tspan, _cur, label=\"\\$\\$\\\\mu A / cm^2\\$\\$\")"
   ]
  },
  {
   "cell_type": "markdown",
   "metadata": {},
   "source": [
    "---\n",
    "<img src=\"export/rc_2.jpeg\" height=\"330\" width=\"330\"></img>"
   ]
  },
  {
   "cell_type": "code",
   "execution_count": null,
   "metadata": {},
   "outputs": [],
   "source": [
    "# sweep\n",
    "_sweep_protocol = [\n",
    "    (\"hdf5/gklv_0\", 0),\n",
    "    (\"hdf5/gklv_0.15\", 0.35),\n",
    "    (\"hdf5/gklv_0.3\", 0.35),\n",
    "    (\"hdf5/gklv_0.45\", 0.35),\n",
    "    (\"hdf5/gklv_0.6\", 0.65),\n",
    "    (\"hdf5/gklv_0.75\", 0.35),\n",
    "    (\"hdf5/gklv_1.1\", 1.1),\n",
    "]\n",
    "for item in _sweep_protocol\n",
    "    _export_name = item[1]\n",
    "    ikl.g = item[2]\n",
    "    # il.g = 0.03\n",
    "\n",
    "    _v_holding = -70\n",
    "    _v_steps = -5:5\n",
    "    u0 = HHModel.setup_init(_model, _v_holding)\n",
    "    tspan = (0.0, 1000.0)\n",
    "    _tspan = 400:0.01:800\n",
    "\n",
    "    _current = zeros((size(_tspan)[1], length(_v_steps)))\n",
    "    _voltage = zeros(size(_current))\n",
    "    _holding = zeros(size(_current))\n",
    "    for (idx, step_size) = enumerate(_v_steps)\n",
    "        param = (E=(sodium=82.0, potassium=-81.0, ih=-46.0, leak=-65.0, syn=3.0),\n",
    "                 stim=(holding=_v_holding, step=step_size, start=500, duration=100))\n",
    "        prob = ODEProblem(_model_sim_vc, u0, tspan, param)\n",
    "        sol = solve(prob, Tsit5(), reltol=1e-8, abstol=1e-8);\n",
    "\n",
    "        _vol = hcat(sol(_tspan)...)[1, :]\n",
    "        _hol = voltage_step_vec(_tspan, param.stim)\n",
    "        _cur = (_hol .- _vol) ./ (6.0)\n",
    "\n",
    "        _current[:, idx] = _cur\n",
    "        _voltage[:, idx] = _vol\n",
    "        _holding[:, idx] = _hol\n",
    "    end\n",
    "\n",
    "    # export as atf file\n",
    "    # HHModel.export_as_atf(_export_name, _tspan, _current, _holding)\n",
    "    HHModel.export_as_hdf5(_export_name, _tspan, _current, _holding)\n",
    "end\n",
    "\n",
    "# fig_a = plot(_tspan, _current, ylabel=\"\\$\\$\\\\mu A / cm^2\\$\\$\", legend=nothing, color=:black)\n",
    "# fig_b = plot(_tspan, _holding, ylabel=\"\\$\\$mV\\$\\$\", legend=nothing, color=:black)\n",
    "# fig_c = plot(_tspan, _voltage, ylabel=\"\\$\\$mV\\$\\$\", legend=nothing, color=:black)\n",
    "# plot(fig_a, fig_b, fig_c, layout=@layout([fig_a;fig_b;fig_c]))"
   ]
  },
  {
   "cell_type": "code",
   "execution_count": null,
   "metadata": {
    "jupyter": {
     "source_hidden": true
    }
   },
   "outputs": [],
   "source": [
    "# ARCHIVED\n",
    "ltk = HHModel.low_voltage_gated_potassium(0, subtype=:kv1);\n",
    "ih = HHModel.ihcurrent(0);\n",
    "il = HHModel.leakage(0.3)\n",
    "\n",
    "voltage_step = (t, param) -> (param.start < t < param.start + param.duration) ? param.holding+param.step : param.holding\n",
    "voltage_step_vec = (t, param) -> begin\n",
    "    _ans = ones(size(t)) .* param.holding\n",
    "    _ans[(param.start .< t) .& (t .< param.start + param.duration)] .= param.holding + param.step\n",
    "    _ans\n",
    "end\n",
    "function RCCircuit2(du, u, p, t)\n",
    "    _current_ih, _dih = HHModel.step(ih, V=u[1], var=u[2:2], E=-26)\n",
    "    _current_ltk, _dltk = HHModel.step(ltk, V=u[1], var=u[3:4], E=-81)\n",
    "    _current_il, _ = HHModel.step(il, V=u[1], var=Int[], E=-65)\n",
    "    \n",
    "    du[1] = (voltage_step(t, p.stim) - u[1]) / (p.Rs * p.C) - (_current_ltk+_current_ih+_current_il) / p.C\n",
    "    du[2] = _dih[end]\n",
    "    du[3:4] = _dltk\n",
    "end\n",
    "\n",
    "u0 = HHModel.setup_init([ih, ltk], -26)\n",
    "tspan = (0.0, 150.0)\n",
    "param = (Rs=1, # kΩ / cm^2\n",
    "    C=0.9, # μA / cm^2\n",
    "    stim=(holding=-26.0, step=3, start=50, duration=50)\n",
    ")\n",
    "prob = ODEProblem(RCCircuit2, u0, tspan, param)\n",
    "sol = solve(prob, Tsit5(), reltol=1e-6, abstol=1e-6);\n",
    "\n",
    "_tspan = 0:0.01:150\n",
    "_ans = hcat(sol(_tspan)...)\n",
    "_vol = _ans[1, :]\n",
    "_du_ltk = _ans[3:4, :]\n",
    "\n",
    "plot(_tspan, (voltage_step_vec(_tspan, param.stim) .- _vol) ./ (param.Rs), label=\"\\$\\$\\\\mu A / cm^2\\$\\$\")"
   ]
  },
  {
   "cell_type": "code",
   "execution_count": null,
   "metadata": {},
   "outputs": [],
   "source": []
  }
 ],
 "metadata": {
  "kernelspec": {
   "display_name": "Julia 1.2.0",
   "language": "julia",
   "name": "julia-1.2"
  },
  "language_info": {
   "file_extension": ".jl",
   "mimetype": "application/julia",
   "name": "julia",
   "version": "1.2.0"
  }
 },
 "nbformat": 4,
 "nbformat_minor": 4
}
