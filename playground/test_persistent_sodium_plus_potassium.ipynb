{
 "cells": [
  {
   "cell_type": "code",
   "execution_count": 1,
   "metadata": {},
   "outputs": [
    {
     "data": {
      "text/plain": [
       "Main.HHModel"
      ]
     },
     "execution_count": 1,
     "metadata": {},
     "output_type": "execute_result"
    }
   ],
   "source": [
    "using Statistics\n",
    "\n",
    "using ProgressMeter\n",
    "\n",
    "using DifferentialEquations\n",
    "using Printf\n",
    "using Plots\n",
    "gr(fmt=\"png\", size=(800, 300))\n",
    "\n",
    "include(\"../src/HHModel.jl\")"
   ]
  },
  {
   "cell_type": "markdown",
   "metadata": {},
   "source": [
    "# Persistent Sodium Plus Potassium Model\n",
    "\n",
    "$$C\\dot{V} = I - g_{\\text{L}}(V - E_{\\text{L}}) - g_{\\text{Na}}m_\\infty(V)(V-E_{\\text{Na}}) - g_{\\text{K}}n(V - E_{\\text{K}})$$\n",
    "\n",
    "$$\\dot{n} = \\frac{n_\\infty(V) - n}{\\tau_n(V)}$$\n",
    "\n",
    "for purpose of even more simplification, let $\\tau_n = 1$."
   ]
  },
  {
   "cell_type": "code",
   "execution_count": 8,
   "metadata": {},
   "outputs": [],
   "source": [
    "# Biophysics setup\n",
    "\n",
    "Na_m = HHModel.Kinetics(1, -20.0, 15.0, _type=:instantaneous)\n",
    "Na = HHModel.SimpleIonChannel(\"Persistent Sodium\", :sodium, 20.0,\n",
    "    Na_m, HHModel.Kinetics());\n",
    "\n",
    "K_m = HHModel.Kinetics(1, -25.0, 5.0)\n",
    "K = HHModel.SimpleIonChannel(\"Persistent Potassium\", :potassium, 15.0,\n",
    "    K_m, HHModel.Kinetics());\n",
    "\n",
    "L = HHModel.SimpleIonChannel(\"Leakage\", :leak, 8.0,\n",
    "    HHModel.Kinetics(), HHModel.Kinetics()\n",
    ");"
   ]
  },
  {
   "cell_type": "code",
   "execution_count": 9,
   "metadata": {},
   "outputs": [
    {
     "data": {
      "text/plain": [
       "stimulus (generic function with 1 method)"
      ]
     },
     "execution_count": 9,
     "metadata": {},
     "output_type": "execute_result"
    }
   ],
   "source": [
    "# stimulus setup\n",
    "function stimulus(t, param)\n",
    "    (param.start < t)&(t < param.dur + param.start) ? param.current : 0\n",
    "end"
   ]
  },
  {
   "cell_type": "code",
   "execution_count": 32,
   "metadata": {},
   "outputs": [
    {
     "data": {
      "text/plain": [
       "#45 (generic function with 1 method)"
      ]
     },
     "execution_count": 32,
     "metadata": {},
     "output_type": "execute_result"
    }
   ],
   "source": [
    "# create model cell\n",
    "_model = HHModel.simpleConductanceModel([Na, K, L], stimulus)"
   ]
  },
  {
   "cell_type": "code",
   "execution_count": 35,
   "metadata": {},
   "outputs": [
    {
     "data": {
      "text/plain": [
       "3-element Array{Float64,1}:\n",
       " 0.14845526096334538\n",
       " 0.0                \n",
       " 0.0                "
      ]
     },
     "execution_count": 35,
     "metadata": {},
     "output_type": "execute_result"
    }
   ],
   "source": [
    "_model(zeros(3), [-66.0, 0.0, 0.0], _p, 10)[1]"
   ]
  },
  {
   "cell_type": "code",
   "execution_count": 29,
   "metadata": {},
   "outputs": [
    {
     "data": {
      "image/png": "[encoded data removed]"
     },
     "execution_count": 29,
     "metadata": {},
     "output_type": "execute_result"
    }
   ],
   "source": [
    "# setup initial values and run the simulation\n",
    "u0 = HHModel.setup_init([Na, K, L], -66)\n",
    "tspan = (0.0, 200.0)\n",
    "\n",
    "# K.m.Vhalf = -30.5\n",
    "# HHModel.update!(K) \n",
    "# _model = HHModel.simpleConductanceModel([Na, K, L], stimulus)\n",
    "\n",
    "_p = (E=(sodium=60.0, potassium=-90.0, leak=-80.0), stim=(start=50, current=30, dur=100))\n",
    "\n",
    "prob = ODEProblem(_model, u0, tspan, _p)\n",
    "sol = solve(prob, Tsit5(), reltol=1e-8, abstol=1e-8);\n",
    "\n",
    "# simple preview\n",
    "plot(sol, vars=(1), legend=nothing, ylim=(-80, 20))"
   ]
  },
  {
   "cell_type": "code",
   "execution_count": null,
   "metadata": {},
   "outputs": [],
   "source": [
    "# visualization\n",
    "a = plot(sol, vars=(1), size=(800, 300), legend=nothing, ylim=(-80, 20))\n",
    "vline!([40])\n",
    "\n",
    "_title = @sprintf \"ik_vhalf = %.2f, ina_vhalf = %.2f\" K.m.Vhalf Na.m.Vhalf\n",
    "plot(legend=nothing, title=_title)\n",
    "plot!(Na.m.infty, -100, 50, color=nordtheme.frost2, linewidth=6)\n",
    "plot!(K.m.infty, -100, 50, color=nordtheme.aurora2, linewidth=6)\n",
    "b = vline!([Na.m.Vhalf, K.m.Vhalf], color=[nordtheme.frost1, nordtheme.aurora2], linewidth=3, linestyle=:dash)\n",
    "\n",
    "_title = @sprintf \"gNa = %.2f, gK = %.2f, gL = %.2f\" Na.g K.g L.g\n",
    "c = bar([\"g_Na\", \"g_K\", \"g_L\"], \n",
    "    [Na.g, K.g, L.g], \n",
    "    color=[nordtheme.frost2, nordtheme.aurora2, nordtheme.aurora1], \n",
    "    legend=nothing, ylim=(0, 25), title=_title)\n",
    "d = plot(b, c)\n",
    "\n",
    "plot(a, d, layout=@layout([a;b]), size=(800, 600))\n",
    "# savefig(\"preview.pdf\")"
   ]
  },
  {
   "cell_type": "code",
   "execution_count": null,
   "metadata": {},
   "outputs": [],
   "source": [
    "_loop_range = (-40):0.05:(-30)\n",
    "p = Progress(length(_loop_range), 1)\n",
    "anim = @animate for ikhalf = _loop_range\n",
    "    _p = (E=(sodium=60.0, potassium=-90.0, leak=-80.0), stim=(start=50, current=10, dur=100))\n",
    "\n",
    "    K.m.Vhalf = ikhalf\n",
    "    HHModel.update!(K)\n",
    "    \n",
    "    _model = HHModel.simpleConductanceModel([Na, K, L], stimulus)\n",
    "    \n",
    "    prob = ODEProblem(_model, u0, tspan, _p)\n",
    "    sol = solve(prob, Tsit5(), reltol=1e-8, abstol=1e-8);\n",
    "    \n",
    "    # visualization\n",
    "    a = plot(sol, vars=(1), size=(800, 300), legend=nothing, ylim=(-80, 20))\n",
    "    vline!([40])\n",
    "\n",
    "    _title = @sprintf \"ik_vhalf = %.2f, ina_vhalf = %.2f\" K.m.Vhalf Na.m.Vhalf\n",
    "    plot(legend=nothing, title=_title)\n",
    "    plot!(Na.m.infty, -100, 50, color=nordtheme.frost2, linewidth=6)\n",
    "    plot!(K.m.infty, -100, 50, color=nordtheme.aurora2, linewidth=6)\n",
    "    b = vline!([Na.m.Vhalf, K.m.Vhalf], color=[nordtheme.frost1, nordtheme.aurora2], linewidth=3, linestyle=:dash)\n",
    "\n",
    "    _title = @sprintf \"gNa = %.2f, gK = %.2f, gL = %.2f\" Na.g K.g L.g\n",
    "    c = bar([\"g_Na\", \"g_K\", \"g_L\"], \n",
    "        [Na.g, K.g, L.g], \n",
    "        color=[nordtheme.frost2, nordtheme.aurora2, nordtheme.aurora1], \n",
    "        legend=nothing, ylim=(0, 25), title=_title)\n",
    "    d = plot(b, c)\n",
    "\n",
    "    plot(a, d, layout=@layout([a;b]), size=(800, 600))\n",
    "    next!(p)\n",
    "end\n",
    "\n",
    "gif(anim, \"K_Vhalf.gif\", fps=16)"
   ]
  },
  {
   "cell_type": "code",
   "execution_count": null,
   "metadata": {},
   "outputs": [],
   "source": [
    "_timeline = 0:0.01:200\n",
    "_current = 0:0.5:20\n",
    "_loop_range = (-40):0.1:(-20)\n",
    "_result = zeros(length(_current), length(_loop_range))\n",
    "\n",
    "p = Progress(length(_loop_range)*length(_current), 5)\n",
    "\n",
    "for (kidx, ikhalf) = enumerate(_loop_range)\n",
    "\n",
    "    K.m.Vhalf = ikhalf\n",
    "    HHModel.update!(K)\n",
    "    \n",
    "    _model = HHModel.simpleConductanceModel([Na, K, L], stimulus)\n",
    "    \n",
    "    for (iidx, _istep) = enumerate(_current)\n",
    "        _p = (E=(sodium=60.0, potassium=-90.0, leak=-80.0), stim=(start=50, current=_istep, dur=100))\n",
    "        prob = ODEProblem(_model, u0, tspan, _p)\n",
    "        sol = solve(prob, Tsit5(), reltol=1e-8, abstol=1e-8);\n",
    "\n",
    "        _trace = [item[1] for item in sol(_timeline).u];\n",
    "\n",
    "        _idx = HHModel.detect_cross_pnt(_trace, -20)\n",
    "        if isnothing(_idx)\n",
    "            _result[iidx, kidx] = 0\n",
    "        else\n",
    "            _fr = 1e3 / mean(diff(_timeline[_idx]))\n",
    "            _result[iidx, kidx] = _fr\n",
    "        end\n",
    "        next!(p)\n",
    "    end\n",
    "end"
   ]
  },
  {
   "cell_type": "markdown",
   "metadata": {},
   "source": [
    "---"
   ]
  },
  {
   "cell_type": "code",
   "execution_count": null,
   "metadata": {},
   "outputs": [],
   "source": [
    "size(_result)"
   ]
  },
  {
   "cell_type": "code",
   "execution_count": null,
   "metadata": {},
   "outputs": [],
   "source": [
    "anim = @animate for i = 1:size(_result, 2)\n",
    "    _title = @sprintf \"ik_vhalf = %.2f\" _loop_range[i]\n",
    "    plot(_current, _result[:,i], legend=nothing, size=(400, 300), ylim=(-1, 250), title=_title)\n",
    "end\n",
    "\n",
    "gif(anim, \"FR_K_Vhalf_2.gif\", fps=16)"
   ]
  },
  {
   "cell_type": "code",
   "execution_count": null,
   "metadata": {},
   "outputs": [],
   "source": [
    "function simpleConductanceModel(channels::Vector{HHModel.SimpleIonChannel}, stim::Function)\n",
    "    nchannel = length(channels)\n",
    "    nvar = HHModel.dof(channels)\n",
    "    \n",
    "    return (du, u, p, t) -> begin\n",
    "        v = u[1]\n",
    "        param = u[2:end-1]\n",
    "        var_idx = 1\n",
    "        dvar_idx = 1\n",
    "        \n",
    "        _current = zeros(nchannel)\n",
    "        for (idx, item) in enumerate(channels)\n",
    "            (_m, _h) = HHModel.dof(item)\n",
    "            \n",
    "            # retrive activation or inactivation variable\n",
    "            if _m == 1\n",
    "                _m_val = param[var_idx]\n",
    "                var_idx = var_idx + 1\n",
    "            else\n",
    "                _m_val = 1\n",
    "            end\n",
    "            \n",
    "            if _h == 1\n",
    "                _h_val = param[var_idx]\n",
    "                var_idx = var_idx + 1\n",
    "            else\n",
    "                _h_val = 1\n",
    "            end\n",
    "            \n",
    "            # step update\n",
    "            (_item_i, _item_dm, _item_dh) = HHModel.step(item, V=v, m=_m_val, h=_h_val, E=p.E[item.ion])\n",
    "            _current[idx] = _item_i\n",
    "            \n",
    "            # udpate du value for activation or inactivation variable\n",
    "            if _m == 1\n",
    "                du[1 + dvar_idx] = _item_dm\n",
    "                dvar_idx = dvar_idx + 1\n",
    "            end\n",
    "            \n",
    "            if _h == 1\n",
    "                du[1 + dvar_idx] = _item_dh\n",
    "                dvar_idx = dvar_idx + 1\n",
    "            end\n",
    "        end\n",
    "        \n",
    "        # udpate dV and current input\n",
    "        du[1] = stim(t) - sum(_current)\n",
    "        u[end] = stim(t)\n",
    "        du\n",
    "    end\n",
    "end"
   ]
  },
  {
   "cell_type": "code",
   "execution_count": null,
   "metadata": {},
   "outputs": [],
   "source": [
    "function simpleConductanceModel(channels::Vector{HHModel.SimpleIonChannel}, stim::Function)\n",
    "    nchannel = length(channels)\n",
    "    nvar = HHModel.dof(channels)\n",
    "    return (du, u, p, t) -> begin\n",
    "        i = Vector{Float64}(undef, nchannel)\n",
    "        d_var = Vector{Float64}(undef, nvar)\n",
    "        var_count = 1\n",
    "        var_idx = 1\n",
    "        \n",
    "        V = u[1]\n",
    "        \n",
    "        for idx = 1:nchannel\n",
    "            _ion = channels[idx].ion\n",
    "            _dof_ch = HHModel.dof(channels[idx])\n",
    "            \n",
    "            if _dof_ch[1] == 1\n",
    "                _m = u[var_idx]\n",
    "                var_idx = var_idx + 1\n",
    "            else\n",
    "                _m = 1\n",
    "            end\n",
    "            \n",
    "            if _dof_ch[2] == 1\n",
    "                _h = u[var_idx]\n",
    "                var_idx = var_idx + 1\n",
    "            else\n",
    "                _h = 1\n",
    "            end\n",
    "            \n",
    "            (_i, _dm, _dh) = HHModel.step(channels[idx], V=V, m=_m, h=_h, E=p.E[_ion])\n",
    "            i[idx] = _i\n",
    "            \n",
    "            if ~isnothing(_dm)\n",
    "                d_var[var_count] = _dm\n",
    "                var_count = var_count + 1\n",
    "            end\n",
    "            if ~isnothing(_dh)\n",
    "                d_var[var_count] = _dh\n",
    "                var_count = var_count + 1\n",
    "            end\n",
    "        end\n",
    "        \n",
    "        du[1] = stim(t) - sum(i)\n",
    "        du[2:end-1] = d_var\n",
    "        u[end] = stim(t)\n",
    "        \n",
    "        du, u, p, t\n",
    "    end\n",
    "end"
   ]
  },
  {
   "cell_type": "code",
   "execution_count": null,
   "metadata": {},
   "outputs": [],
   "source": [
    "stimulus = (t) -> t > 40 ? 10 : 0\n",
    "_model = simpleConductanceModel([Na, K, L], stimulus)\n",
    "\n",
    "u0 = [-66.0, 0.045, 0.0]\n",
    "tspan = (0.0, 100.0)\n",
    "_p = (E=(sodium=60.0, potassium=-90.0, leak=-80.0),)\n",
    "\n",
    "prob = ODEProblem(_model, u0, tspan, _p)\n",
    "sol = solve(prob, Tsit5(), reltol=1e-8, abstol=1e-8);\n",
    "\n",
    "plot(sol, vars=(3), legend=nothing)"
   ]
  },
  {
   "cell_type": "code",
   "execution_count": null,
   "metadata": {},
   "outputs": [],
   "source": [
    "plot(sol, vars=(2), legend=nothing)"
   ]
  }
 ],
 "metadata": {
  "kernelspec": {
   "display_name": "Julia 1.2.0",
   "language": "julia",
   "name": "julia-1.2"
  },
  "language_info": {
   "file_extension": ".jl",
   "mimetype": "application/julia",
   "name": "julia",
   "version": "1.2.0"
  }
 },
 "nbformat": 4,
 "nbformat_minor": 4
}
