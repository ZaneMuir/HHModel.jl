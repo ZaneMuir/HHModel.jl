{
 "cells": [
  {
   "cell_type": "markdown",
   "metadata": {},
   "source": [
    "TODO:\n",
    "- [ ] framework\n",
    "    - [ ] documentation\n",
    "    - Kinetics\n",
    "        - [x] reform struct with number of gates\n",
    "    - [x] simple channel -> ih, il, ina, iltk\n",
    "    - [x] copmlex channel -> ihtk, iltk\n",
    "    - [x] generic channel -> ik\n",
    "    - [x] misc\n",
    "        - [x] `function dof(channels::Vector{AbstractIonChannel})`\n",
    "        - [x] `function simpleConductanceModel(channels::Vector{AbstractIonChannel}, stim::Function)`\n",
    "- [ ] channel zoo\n",
    "    - [x] ihtk\n",
    "    - [x] ih\n",
    "    - [x] ik\n",
    "    - [x] il\n",
    "    - [x] iltk\n",
    "        - [x] regular\n",
    "        - [ ] complex\n",
    "    - [x] ina `hh_sodium`"
   ]
  },
  {
   "cell_type": "code",
   "execution_count": 1,
   "metadata": {},
   "outputs": [
    {
     "data": {
      "text/plain": [
       "Main.HHModel"
      ]
     },
     "execution_count": 1,
     "metadata": {},
     "output_type": "execute_result"
    }
   ],
   "source": [
    "using DifferentialEquations\n",
    "using Plots\n",
    "gr(fmt=\"png\")\n",
    "\n",
    "include(\"../src/HHModel.jl\")"
   ]
  },
  {
   "cell_type": "code",
   "execution_count": 2,
   "metadata": {},
   "outputs": [
    {
     "data": {
      "text/plain": [
       "#45 (generic function with 1 method)"
      ]
     },
     "execution_count": 2,
     "metadata": {},
     "output_type": "execute_result"
    }
   ],
   "source": [
    "# ltk = HHModel.low_voltage_gated_potassium(0);\n",
    "# ltk_cmplx = HHModel.low_voltage_gated_potassium(10, iltkcomplex=true);\n",
    "htk = HHModel.high_voltage_gated_potassium(2.8);\n",
    "ina = HHModel.hh_sodium(13.0);\n",
    "# ik = HHModel.hh_potassium(0);\n",
    "ih = HHModel.ihcurrent(0.43);\n",
    "il = HHModel.leakage(0.03);\n",
    "\n",
    "stimulus = (t, param) -> begin\n",
    "    if (param.start < t) & (t < (param.start + param.dur))\n",
    "        return param.amp\n",
    "    else\n",
    "        return 0\n",
    "    end\n",
    "end\n",
    "\n",
    "_model = HHModel.simpleConductanceModel([htk, ina, ih, il], stimulus)"
   ]
  },
  {
   "cell_type": "markdown",
   "metadata": {},
   "source": [
    "---"
   ]
  },
  {
   "cell_type": "code",
   "execution_count": 5,
   "metadata": {},
   "outputs": [
    {
     "ename": "InterruptException",
     "evalue": "InterruptException:",
     "output_type": "error",
     "traceback": [
      "InterruptException:",
      "",
      "Stacktrace:",
      " [1] vect(::Nothing, ::Vararg{Any,N} where N) at ./array.jl:151",
      " [2] #step#27(::Float64, ::Array{Float64,1}, ::Int64, ::typeof(Main.HHModel.step), ::Main.HHModel.SimpleIonChannel) at /Users/yizhan/Documents/github/HHModel.jl/src/Channel/SimpleChannel.jl:83",
      " [3] (::getfield(Main.HHModel, Symbol(\"#kw##step\")))(::NamedTuple{(:V, :var, :E),Tuple{Float64,Array{Float64,1},Int64}}, ::typeof(Main.HHModel.step), ::Main.HHModel.SimpleIonChannel) at ./none:0",
      " [4] (::getfield(Main.HHModel, Symbol(\"##45#47\")){Array{Main.HHModel.AbstractIonChannel,1},getfield(Main, Symbol(\"##3#4\")),Int64})(::Array{Float64,1}, ::Array{Float64,1}, ::NamedTuple{(:E, :stim),Tuple{NamedTuple{(:sodium, :potassium, :ih, :leak),Tuple{Float64,Float64,Int64,Int64}},NamedTuple{(:start, :amp, :dur),Tuple{Int64,Int64,Int64}}}}, ::Float64) at /Users/yizhan/Documents/github/HHModel.jl/src/Dynamics.jl:140",
      " [5] ODEFunction at /Users/yizhan/.julia/packages/DiffEqBase/Fs7ts/src/diffeqfunction.jl:230 [inlined]",
      " [6] perform_step!(::OrdinaryDiffEq.ODEIntegrator{Tsit5,true,Array{Float64,1},Float64,NamedTuple{(:E, :stim),Tuple{NamedTuple{(:sodium, :potassium, :ih, :leak),Tuple{Float64,Float64,Int64,Int64}},NamedTuple{(:start, :amp, :dur),Tuple{Int64,Int64,Int64}}}},Float64,Float64,Float64,Array{Array{Float64,1},1},ODESolution{Float64,2,Array{Array{Float64,1},1},Nothing,Nothing,Array{Float64,1},Array{Array{Array{Float64,1},1},1},ODEProblem{Array{Float64,1},Tuple{Float64,Float64},true,NamedTuple{(:E, :stim),Tuple{NamedTuple{(:sodium, :potassium, :ih, :leak),Tuple{Float64,Float64,Int64,Int64}},NamedTuple{(:start, :amp, :dur),Tuple{Int64,Int64,Int64}}}},ODEFunction{true,getfield(Main.HHModel, Symbol(\"##45#47\")){Array{Main.HHModel.AbstractIonChannel,1},getfield(Main, Symbol(\"##3#4\")),Int64},LinearAlgebra.UniformScaling{Bool},Nothing,Nothing,Nothing,Nothing,Nothing,Nothing,Nothing,Nothing,Nothing},Base.Iterators.Pairs{Union{},Union{},Tuple{},NamedTuple{(),Tuple{}}},DiffEqBase.StandardODEProblem},Tsit5,OrdinaryDiffEq.InterpolationData{ODEFunction{true,getfield(Main.HHModel, Symbol(\"##45#47\")){Array{Main.HHModel.AbstractIonChannel,1},getfield(Main, Symbol(\"##3#4\")),Int64},LinearAlgebra.UniformScaling{Bool},Nothing,Nothing,Nothing,Nothing,Nothing,Nothing,Nothing,Nothing,Nothing},Array{Array{Float64,1},1},Array{Float64,1},Array{Array{Array{Float64,1},1},1},OrdinaryDiffEq.Tsit5Cache{Array{Float64,1},Array{Float64,1},Array{Float64,1},OrdinaryDiffEq.Tsit5ConstantCache{Float64,Float64}}},DiffEqBase.DEStats},ODEFunction{true,getfield(Main.HHModel, Symbol(\"##45#47\")){Array{Main.HHModel.AbstractIonChannel,1},getfield(Main, Symbol(\"##3#4\")),Int64},LinearAlgebra.UniformScaling{Bool},Nothing,Nothing,Nothing,Nothing,Nothing,Nothing,Nothing,Nothing,Nothing},OrdinaryDiffEq.Tsit5Cache{Array{Float64,1},Array{Float64,1},Array{Float64,1},OrdinaryDiffEq.Tsit5ConstantCache{Float64,Float64}},OrdinaryDiffEq.DEOptions{Float64,Float64,Float64,Float64,typeof(DiffEqBase.ODE_DEFAULT_NORM),typeof(LinearAlgebra.opnorm),CallbackSet{Tuple{},Tuple{}},typeof(DiffEqBase.ODE_DEFAULT_ISOUTOFDOMAIN),typeof(DiffEqBase.ODE_DEFAULT_PROG_MESSAGE),typeof(DiffEqBase.ODE_DEFAULT_UNSTABLE_CHECK),DataStructures.BinaryHeap{Float64,DataStructures.LessThan},DataStructures.BinaryHeap{Float64,DataStructures.LessThan},Nothing,Nothing,Int64,Array{Float64,1},Array{Float64,1},Array{Float64,1}},Array{Float64,1},Float64,Nothing}, ::OrdinaryDiffEq.Tsit5Cache{Array{Float64,1},Array{Float64,1},Array{Float64,1},OrdinaryDiffEq.Tsit5ConstantCache{Float64,Float64}}, ::Bool) at /Users/yizhan/.julia/packages/OrdinaryDiffEq/8lTXZ/src/perform_step/low_order_rk_perform_step.jl:633",
      " [7] perform_step! at /Users/yizhan/.julia/packages/OrdinaryDiffEq/8lTXZ/src/perform_step/low_order_rk_perform_step.jl:628 [inlined]",
      " [8] solve!(::OrdinaryDiffEq.ODEIntegrator{Tsit5,true,Array{Float64,1},Float64,NamedTuple{(:E, :stim),Tuple{NamedTuple{(:sodium, :potassium, :ih, :leak),Tuple{Float64,Float64,Int64,Int64}},NamedTuple{(:start, :amp, :dur),Tuple{Int64,Int64,Int64}}}},Float64,Float64,Float64,Array{Array{Float64,1},1},ODESolution{Float64,2,Array{Array{Float64,1},1},Nothing,Nothing,Array{Float64,1},Array{Array{Array{Float64,1},1},1},ODEProblem{Array{Float64,1},Tuple{Float64,Float64},true,NamedTuple{(:E, :stim),Tuple{NamedTuple{(:sodium, :potassium, :ih, :leak),Tuple{Float64,Float64,Int64,Int64}},NamedTuple{(:start, :amp, :dur),Tuple{Int64,Int64,Int64}}}},ODEFunction{true,getfield(Main.HHModel, Symbol(\"##45#47\")){Array{Main.HHModel.AbstractIonChannel,1},getfield(Main, Symbol(\"##3#4\")),Int64},LinearAlgebra.UniformScaling{Bool},Nothing,Nothing,Nothing,Nothing,Nothing,Nothing,Nothing,Nothing,Nothing},Base.Iterators.Pairs{Union{},Union{},Tuple{},NamedTuple{(),Tuple{}}},DiffEqBase.StandardODEProblem},Tsit5,OrdinaryDiffEq.InterpolationData{ODEFunction{true,getfield(Main.HHModel, Symbol(\"##45#47\")){Array{Main.HHModel.AbstractIonChannel,1},getfield(Main, Symbol(\"##3#4\")),Int64},LinearAlgebra.UniformScaling{Bool},Nothing,Nothing,Nothing,Nothing,Nothing,Nothing,Nothing,Nothing,Nothing},Array{Array{Float64,1},1},Array{Float64,1},Array{Array{Array{Float64,1},1},1},OrdinaryDiffEq.Tsit5Cache{Array{Float64,1},Array{Float64,1},Array{Float64,1},OrdinaryDiffEq.Tsit5ConstantCache{Float64,Float64}}},DiffEqBase.DEStats},ODEFunction{true,getfield(Main.HHModel, Symbol(\"##45#47\")){Array{Main.HHModel.AbstractIonChannel,1},getfield(Main, Symbol(\"##3#4\")),Int64},LinearAlgebra.UniformScaling{Bool},Nothing,Nothing,Nothing,Nothing,Nothing,Nothing,Nothing,Nothing,Nothing},OrdinaryDiffEq.Tsit5Cache{Array{Float64,1},Array{Float64,1},Array{Float64,1},OrdinaryDiffEq.Tsit5ConstantCache{Float64,Float64}},OrdinaryDiffEq.DEOptions{Float64,Float64,Float64,Float64,typeof(DiffEqBase.ODE_DEFAULT_NORM),typeof(LinearAlgebra.opnorm),CallbackSet{Tuple{},Tuple{}},typeof(DiffEqBase.ODE_DEFAULT_ISOUTOFDOMAIN),typeof(DiffEqBase.ODE_DEFAULT_PROG_MESSAGE),typeof(DiffEqBase.ODE_DEFAULT_UNSTABLE_CHECK),DataStructures.BinaryHeap{Float64,DataStructures.LessThan},DataStructures.BinaryHeap{Float64,DataStructures.LessThan},Nothing,Nothing,Int64,Array{Float64,1},Array{Float64,1},Array{Float64,1}},Array{Float64,1},Float64,Nothing}) at /Users/yizhan/.julia/packages/OrdinaryDiffEq/8lTXZ/src/solve.jl:368",
      " [9] #__solve#334 at /Users/yizhan/.julia/packages/OrdinaryDiffEq/8lTXZ/src/solve.jl:5 [inlined]",
      " [10] #__solve at ./none:0 [inlined]",
      " [11] #solve_call#425(::Base.Iterators.Pairs{Symbol,Float64,Tuple{Symbol},NamedTuple{(:dt,),Tuple{Float64}}}, ::typeof(DiffEqBase.solve_call), ::ODEProblem{Array{Float64,1},Tuple{Float64,Float64},true,NamedTuple{(:E, :stim),Tuple{NamedTuple{(:sodium, :potassium, :ih, :leak),Tuple{Float64,Float64,Int64,Int64}},NamedTuple{(:start, :amp, :dur),Tuple{Int64,Int64,Int64}}}},ODEFunction{true,getfield(Main.HHModel, Symbol(\"##45#47\")){Array{Main.HHModel.AbstractIonChannel,1},getfield(Main, Symbol(\"##3#4\")),Int64},LinearAlgebra.UniformScaling{Bool},Nothing,Nothing,Nothing,Nothing,Nothing,Nothing,Nothing,Nothing,Nothing},Base.Iterators.Pairs{Union{},Union{},Tuple{},NamedTuple{(),Tuple{}}},DiffEqBase.StandardODEProblem}, ::Tsit5) at /Users/yizhan/.julia/packages/DiffEqBase/Fs7ts/src/solve.jl:40",
      " [12] #solve_call at ./none:0 [inlined]",
      " [13] #solve#426 at /Users/yizhan/.julia/packages/DiffEqBase/Fs7ts/src/solve.jl:57 [inlined]",
      " [14] (::getfield(DiffEqBase, Symbol(\"#kw##solve\")))(::NamedTuple{(:dt,),Tuple{Float64}}, ::typeof(solve), ::ODEProblem{Array{Float64,1},Tuple{Float64,Float64},true,NamedTuple{(:E, :stim),Tuple{NamedTuple{(:sodium, :potassium, :ih, :leak),Tuple{Float64,Float64,Int64,Int64}},NamedTuple{(:start, :amp, :dur),Tuple{Int64,Int64,Int64}}}},ODEFunction{true,getfield(Main.HHModel, Symbol(\"##45#47\")){Array{Main.HHModel.AbstractIonChannel,1},getfield(Main, Symbol(\"##3#4\")),Int64},LinearAlgebra.UniformScaling{Bool},Nothing,Nothing,Nothing,Nothing,Nothing,Nothing,Nothing,Nothing,Nothing},Base.Iterators.Pairs{Union{},Union{},Tuple{},NamedTuple{(),Tuple{}}},DiffEqBase.StandardODEProblem}, ::Tsit5) at ./none:0",
      " [15] top-level scope at util.jl:156",
      " [16] top-level scope at In[5]:9"
     ]
    }
   ],
   "source": [
    "_p = (E=(sodium=81.27, potassium=-80.78, ih=-26, leak=-65), \n",
    "      stim=(start=50, amp=0, dur=100),)\n",
    "\n",
    "tspan = (0.0, 200.0)\n",
    "v0 = -60.0\n",
    "u0 = HHModel.setup_init([htk, ina, ih, il], v0)\n",
    "\n",
    "prob = ODEProblem(_model, u0, tspan, _p)\n",
    "@time sol = solve(prob, Tsit5(), dt=0.1);\n"
   ]
  },
  {
   "cell_type": "code",
   "execution_count": null,
   "metadata": {},
   "outputs": [],
   "source": [
    "plot(sol, vars=(1), legend=nothing)"
   ]
  },
  {
   "cell_type": "code",
   "execution_count": null,
   "metadata": {},
   "outputs": [],
   "source": [
    "not = (x) -> !x\n",
    "function simpleConductanceModel(channels::Vector{T}, stim::Function) where {T <: HHModel.AbstractIonChannel}\n",
    "    nchannel = length(channels)\n",
    "    nvar = HHModel.dof(channels)\n",
    "    \n",
    "    return (du, u, p, t) -> begin\n",
    "        v = u[1]\n",
    "        param = u[2:end-1]\n",
    "        var_idx = 1\n",
    "        \n",
    "        _current = zeros(nchannel)\n",
    "        for (idx, item) in enumerate(channels)\n",
    "            _var_step = sum(HHModel.dof(item))\n",
    "            println(item.name, \" \", _var_step)\n",
    "            println(length(param[var_idx:var_idx-1+_var_step]))\n",
    "            println(var_idx)\n",
    "            (_icurrent, _iderivitate) = HHModel.step(item, V=v, var=param[var_idx:var_idx-1+_var_step], E=p.E[item.ion])\n",
    "            _current[idx] = _icurrent\n",
    "            du[var_idx:var_idx-1+_var_step] = _iderivitate[not.(isnothing.(_iderivitate))]\n",
    "            var_idx += _var_step\n",
    "        end\n",
    "        \n",
    "        I = stim(t, p.stim)\n",
    "        du[1] = I - sum(_current)\n",
    "        u[end] = I\n",
    "        \n",
    "        du, u, p, t\n",
    "    end\n",
    "end"
   ]
  },
  {
   "cell_type": "markdown",
   "metadata": {},
   "source": [
    "---"
   ]
  },
  {
   "cell_type": "markdown",
   "metadata": {},
   "source": [
    "### generic channel\n",
    "ik"
   ]
  },
  {
   "cell_type": "code",
   "execution_count": null,
   "metadata": {},
   "outputs": [],
   "source": [
    "ik_rule = (knt, var) -> begin\n",
    "    (a,b,c) = var\n",
    "    a ^ 4 * b * c\n",
    "end\n",
    "\n",
    "_a_tau = (V) -> 100*(7*exp((V+60)/14)+29*exp(-(V+60)/24))^(-1)+0.1\n",
    "_a_infty = (V) -> (1+exp(-(V+31)/6))^(-1/4)\n",
    "_a = HHModel.Kinetics(4, _a_infty, _a_tau)\n",
    "\n",
    "_b_tau = (V) -> 1000*(14*exp((V+60)/27)+29*exp(-(V+60)/24))^(-1)+1;\n",
    "_b_infty = (V) -> (1+exp((V+66)/7))^(-1/2);\n",
    "_b = HHModel.Kinetics(1, _b_infty, _b_tau)\n",
    "\n",
    "_c_tau = (V) -> 90*(1+exp(-(V+66)/17))^(-1)+10;\n",
    "_c_infty = (V) -> (1+exp((V+66)/7))^(-1/2);\n",
    "_c = HHModel.Kinetics(1, _c_infty, _c_tau)\n",
    "\n",
    "ik = HHModel.GenericIonChannel(\"hh potassium\", :potassium,\n",
    "    10, ik_rule,\n",
    "    [_a, _b, _c]\n",
    ");"
   ]
  },
  {
   "cell_type": "code",
   "execution_count": null,
   "metadata": {},
   "outputs": [],
   "source": [
    "HHModel.step(ik, V=-10, var=[0.1, 0.2, 0.1], E=-80)"
   ]
  },
  {
   "cell_type": "markdown",
   "metadata": {},
   "source": [
    "### complex channel\n",
    "_ihtk\n"
   ]
  },
  {
   "cell_type": "code",
   "execution_count": null,
   "metadata": {},
   "outputs": [],
   "source": [
    "_n_tau = (V) -> 100*(11*exp((V+60)/24)+21*exp(-(V+60)/23))^(-1)+0.7;\n",
    "_n_infty = (V) -> (1+exp(-(V+15)/5))^(-1/2)\n",
    "_n = HHModel.Kinetics(2, _n_infty, _n_tau)\n",
    "\n",
    "_p_tau = (V) -> 100*(4*exp((V+60)/32)+5*exp(-(V+60)/22))^(-1)+5;\n",
    "_p = HHModel.Kinetics(1, -23, 6, _tau=_p_tau)\n",
    "\n",
    "ihtk = HHModel.ComplexIonChannel(\"high voltage gated potassium\", :potassium,\n",
    "       10.0, [0.5, 0.5],\n",
    "       [(_n, HHModel.Kinetics()), \n",
    "        (_p, HHModel.Kinetics())]\n",
    ");"
   ]
  },
  {
   "cell_type": "code",
   "execution_count": null,
   "metadata": {},
   "outputs": [],
   "source": [
    "HHModel.step(ihtk, V=-1, var=[0.1, 0.2], E=-80)"
   ]
  },
  {
   "cell_type": "code",
   "execution_count": null,
   "metadata": {},
   "outputs": [],
   "source": [
    "plot(ihtk.var[1][1].tau, -100, 20)"
   ]
  },
  {
   "cell_type": "markdown",
   "metadata": {},
   "source": [
    "### simple channel"
   ]
  },
  {
   "cell_type": "code",
   "execution_count": null,
   "metadata": {},
   "outputs": [],
   "source": [
    "_m_tau = (V) -> 10 / (5*exp((V+60)/18)+36*exp(-(V+60)/25))+0.04\n",
    "_m = HHModel.Kinetics(3, -38.0, 7.0, _tau = _m_tau)\n",
    "    \n",
    "_h_tau = (V) -> 100 / (7*exp((V+60)/11)+10*exp(-(V+60)/25))+0.6\n",
    "_h = HHModel.Kinetics(1, -65.0, 6.0, _tau=_h_tau, state=:inactivation)\n",
    "    \n",
    "hh_sodium = HHModel.SimpleIonChannel(\"hh sodium\", :sodium, \n",
    "        10, _m, _h);"
   ]
  },
  {
   "cell_type": "code",
   "execution_count": null,
   "metadata": {},
   "outputs": [],
   "source": [
    "HHModel.dof(hh_sodium)"
   ]
  },
  {
   "cell_type": "code",
   "execution_count": null,
   "metadata": {},
   "outputs": [],
   "source": [
    "HHModel.step(hh_sodium, V=10, var=[0.1, 0.4], E=28)"
   ]
  },
  {
   "cell_type": "code",
   "execution_count": null,
   "metadata": {},
   "outputs": [],
   "source": [
    "HHModel.dof([hh_sodium, ik, ihtk])"
   ]
  },
  {
   "cell_type": "markdown",
   "metadata": {},
   "source": [
    "---"
   ]
  },
  {
   "cell_type": "code",
   "execution_count": null,
   "metadata": {},
   "outputs": [],
   "source": [
    "ih = HHModel.ihcurrent(10);"
   ]
  },
  {
   "cell_type": "code",
   "execution_count": null,
   "metadata": {},
   "outputs": [],
   "source": [
    "plot(ih.h.infty, -150, 20)"
   ]
  },
  {
   "cell_type": "code",
   "execution_count": null,
   "metadata": {},
   "outputs": [],
   "source": [
    "ltk = HHModel.low_voltage_gated_potassium(15.0, subtype=:kv1);\n",
    "\n",
    "# plot((x) -> HHModel.time_constant(ltk.m, x), -150, 20, legend=nothing)    \n",
    "plot(ltk.m.infty, -150, 20, legend=nothing, ylim=(0, 1))"
   ]
  },
  {
   "cell_type": "code",
   "execution_count": null,
   "metadata": {},
   "outputs": [],
   "source": [
    "hhna = HHModel.hh_sodium(20);\n",
    "\n",
    "# plot(hhna.h.infty, -150, 20)\n",
    "# plot!(hhna.m.infty, -150, 20)\n",
    "plot((x) -> hhna.m.infty(x), -150, 20)"
   ]
  },
  {
   "cell_type": "code",
   "execution_count": null,
   "metadata": {},
   "outputs": [],
   "source": []
  }
 ],
 "metadata": {
  "kernelspec": {
   "display_name": "Julia 1.2.0",
   "language": "julia",
   "name": "julia-1.2"
  },
  "language_info": {
   "file_extension": ".jl",
   "mimetype": "application/julia",
   "name": "julia",
   "version": "1.2.0"
  }
 },
 "nbformat": 4,
 "nbformat_minor": 4
}
