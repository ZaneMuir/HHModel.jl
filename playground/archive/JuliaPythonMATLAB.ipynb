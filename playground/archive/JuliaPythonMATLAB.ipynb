{
 "cells": [
  {
   "cell_type": "markdown",
   "metadata": {},
   "source": [
    "<img src=\"https://julialang.org/v2/img/logo.svg\" width=250></img>\n",
    "\n",
    "> scientific computing, machine learning, data mining, large-scale linear algebra, distributed and parallel computing \n",
    "\n",
    "> We want a language that’s **open source**, with a liberal license. \n",
    "> We want the **speed** of C with the **dynamism** of Ruby. \n",
    "> We want a language that’s **homoiconic, with true macros** like Lisp, \n",
    "> but with obvious, **familiar mathematical notation** like Matlab. \n",
    "> We want something as usable for general programming as Python, \n",
    "> as **easy for statistics** as R, as natural for **string processing** as Perl, \n",
    "> as powerful for **linear algebra** as Matlab, as good at **gluing programs together** as the shell. \n",
    "> Something that is **dirt simple** to learn, yet keeps the most serious hackers happy. \n",
    "> We want it **interactive** and we want it **compiled**."
   ]
  },
  {
   "cell_type": "markdown",
   "metadata": {},
   "source": [
    "## Julia - Main Features\n",
    "- Dynamic programming language for technical computing\n",
    "- Strongly typed with Any-type and type inference\n",
    "- JIT compilation to machine code (using LLVM)\n",
    "- Matlab-like notation/convenience for arrays\n",
    "- Advanced features:\n",
    "    - Multiple dispatch\n",
    "    - Matrix operators for all LAPACK types\n",
    "    - Sparse matrices and operators\n",
    "    - Parallel processing\n",
    "    - Meta programming\n",
    "- Developed at MIT since 2012, MIT license"
   ]
  },
  {
   "cell_type": "markdown",
   "metadata": {},
   "source": [
    "## MATLAB \n",
    "- no nice structure for developing code \n",
    "- lack of namespacing for packages\n",
    "- ambiguity between indexing and function"
   ]
  },
  {
   "cell_type": "markdown",
   "metadata": {},
   "source": [
    "## MATLAB and Julia ODE solver benchmark\n",
    "![](https://raw.githubusercontent.com/JuliaDiffEq/MATLABDiffEq.jl/master/assets/matlab_bench.png)"
   ]
  },
  {
   "cell_type": "markdown",
   "metadata": {},
   "source": [
    "---"
   ]
  },
  {
   "cell_type": "code",
   "execution_count": null,
   "metadata": {},
   "outputs": [],
   "source": [
    "using ProgressMeter\n",
    "using Statistics\n",
    "using Printf\n",
    "using DifferentialEquations\n",
    "using Plots\n",
    "gr(fmt=\"png\", size=(400, 300))"
   ]
  },
  {
   "cell_type": "code",
   "execution_count": null,
   "metadata": {},
   "outputs": [],
   "source": [
    "@doc raw\"\"\"**activationFunction**(Vhalf, k)\n",
    "\n",
    "activation function of the ion channel, as boltzmann function.\n",
    "\n",
    "$$m_\\infty(V) = \\frac{1}{1 + \\exp(\\frac{V_{\\text{half}} - V}{k})}$$\n",
    "\"\"\"\n",
    "function activationFunction(Vhalf::Float64, k)\n",
    "    return (V) -> 1 / (1+exp((Vhalf-V)/k))\n",
    "end\n",
    "\n",
    "function activationFunction(Vhalf::Int64, k)\n",
    "    return (V) -> 1 / (1+exp((Vhalf-V)/k))\n",
    "end\n",
    "\n",
    "@doc raw\"\"\"**timeConstant**(Vmax, sigma, Camp, Cbase)\n",
    "\n",
    "time constant of the ion channel, as gaussian function.\n",
    "\n",
    "$$\\tau(V) = C_{\\text{base}} + C_{\\text{amp}} \\exp(\\frac{- (V_{\\text{max}} - V) ^ 2}{\\sigma ^ 2})$$\n",
    "\"\"\"\n",
    "function timeConstant(Vmax, sigma, Camp, Cbase)\n",
    "    return (V) -> Cbase + Camp * exp(-((Vmax - V)/sigma)^2)\n",
    "end"
   ]
  },
  {
   "cell_type": "markdown",
   "metadata": {},
   "source": [
    "---"
   ]
  },
  {
   "cell_type": "code",
   "execution_count": null,
   "metadata": {},
   "outputs": [],
   "source": [
    "@doc raw\"\"\"\n",
    "## $I_{\\text{Na,p}}+I_{\\text{K}}$-model\n",
    "\n",
    "$$C\\dot{V} = I - g_{\\text{L}}(V - E_{\\text{L}}) - g_{\\text{Na}}m_\\infty(V)(V-E_{\\text{Na}}) - g_{\\text{K}}n(V - E_{\\text{K}})$$\n",
    "$$\\dot{n} = \\frac{n_\\infty(V) - n}{\\tau_n(V)}$$\n",
    "\n",
    "- u = [V, m, n, I]\n",
    "\"\"\"\n",
    "function persistent_sodium_plus_potassium_model(du, u, p, t)\n",
    "    \n",
    "    E_Na = 60.0\n",
    "    E_K  = -90.0\n",
    "    E_L  = -80.0\n",
    "    \n",
    "    m_infty = activationFunction(p.m_half, p.m_k)\n",
    "    # tau_m = (V) -> 0.8\n",
    "    \n",
    "    n_infty = activationFunction(p.n_half, p.n_k)\n",
    "    tau_n = (V) -> 1.0\n",
    "    \n",
    "    g_L = 8.0\n",
    "    g_Na= p.g_Na #20.0 # 10\n",
    "    g_K = p.g_K #10.0\n",
    "    \n",
    "    if t > 40\n",
    "        u[4] = p.I\n",
    "    else\n",
    "        u[4] = 0\n",
    "    end\n",
    "    \n",
    "    du[1] = u[4] - g_L * (u[1] - E_L) - g_Na * m_infty(u[1]) * (u[1] - E_Na) - g_K * u[3] * (u[1] - E_K)\n",
    "    u[2] = m_infty(u[1])\n",
    "    du[3] = (n_infty(u[1]) - u[3]) / tau_n(u[1])\n",
    "end"
   ]
  },
  {
   "cell_type": "code",
   "execution_count": null,
   "metadata": {},
   "outputs": [],
   "source": [
    "m_infty = activationFunction(_p.m_half, _p.m_k)\n",
    "20 * m_infty(0) * (80)"
   ]
  },
  {
   "cell_type": "code",
   "execution_count": null,
   "metadata": {},
   "outputs": [],
   "source": []
  },
  {
   "cell_type": "code",
   "execution_count": null,
   "metadata": {},
   "outputs": [],
   "source": [
    "?persistent_sodium_plus_potassium_model"
   ]
  },
  {
   "cell_type": "code",
   "execution_count": null,
   "metadata": {},
   "outputs": [],
   "source": [
    "u0 = [-66.0, 0.045, 0.0, 0.0]\n",
    "tspan = (0.0, 100.0)\n",
    "\n",
    "_p = (I=10.0, g_Na=20.0, g_K=15.0, \n",
    "    m_half=-20.0, m_k = 15.0, \n",
    "    n_half=-25.0, n_k=5.0)\n",
    "\n",
    "prob = ODEProblem(persistent_sodium_plus_potassium_model, u0, tspan, _p)\n",
    "sol = solve(prob, Tsit5(), reltol=1e-8, abstol=1e-8);\n",
    "_trace = [item[1] for item in sol(tspan[1]:0.1:tspan[2]).u];"
   ]
  },
  {
   "cell_type": "code",
   "execution_count": null,
   "metadata": {},
   "outputs": [],
   "source": [
    "a = plot(sol, vars=(1), size=(800, 300), title=\"$(_p)\", legend=nothing, ylim=(-80, 20))\n",
    "vline!([40])\n",
    "\n",
    "plot(activationFunction(_p.m_half, _p.m_k), -100, 20, color=nordtheme.frost2, linewidth=3, xlabel=\"V\")\n",
    "b = plot!(activationFunction(_p.n_half, _p.n_k),-100, 20, color=nordtheme.aurora2, linewidth=3, legend=nothing)\n",
    "c = bar([\"g_Na\", \"g_K\", \"g_L\"], [_p.g_Na, _p.g_K, 8], color=[nordtheme.frost2, nordtheme.aurora2, nordtheme.aurora1], legend=nothing, ylim=(0, 25))\n",
    "d = plot(b, c)\n",
    "\n",
    "# plot!(sol, vars=(3))\n",
    "\n",
    "plot(a, d, layout=@layout([a;b]), size=(800, 600))\n",
    "# savefig(\"export/preview.pdf\")"
   ]
  },
  {
   "cell_type": "code",
   "execution_count": null,
   "metadata": {},
   "outputs": [],
   "source": [
    "tmp = zeros(10000, 20000)\n",
    "@time for i = 1:1000\n",
    "    for j = 1:2000\n",
    "        tmp[i, j] = rand()\n",
    "    end\n",
    "end"
   ]
  },
  {
   "cell_type": "code",
   "execution_count": null,
   "metadata": {},
   "outputs": [],
   "source": [
    "tmp = zeros(10000, 20000)\n",
    "@time Threads.@threads for i = 1:1000\n",
    "    for j = 1:2000\n",
    "        tmp[i, j] = rand()\n",
    "    end\n",
    "end"
   ]
  },
  {
   "cell_type": "code",
   "execution_count": null,
   "metadata": {},
   "outputs": [],
   "source": [
    "function detect_cross_pnt(arr, thr, way=:up, gap=1)\n",
    "    _idx_repo = []\n",
    "    try\n",
    "        idx = findall(_trace .> -20)\n",
    "        idx_diff = findall(diff(idx) .> 1)\n",
    "        _idx_repo = [idx[1]; idx[idx_diff]; idx[idx_diff .+ 1]; idx[end]]\n",
    "    catch BoundError\n",
    "        return nothing\n",
    "    end\n",
    "    \n",
    "    if way == :up\n",
    "        _check = (x, i) -> x[i-1] < thr < x[i] #< x[i+1]\n",
    "    elseif way == :down\n",
    "        _check = (x, i) -> x[i-1] > x[i] > x[i+1]\n",
    "    else\n",
    "        return nothing\n",
    "    end\n",
    "    \n",
    "    sort!(_idx_repo)\n",
    "    _result = Vector{Int}()\n",
    "    _previous = -9999\n",
    "    \n",
    "    for idx in _idx_repo\n",
    "            if _check(arr, idx) && (idx - _previous > gap)\n",
    "                _result = [_result; idx]\n",
    "                _previous = idx\n",
    "            end\n",
    "    end\n",
    "    \n",
    "    _result\n",
    "end\n",
    "\n",
    "_x = tspan[1]:0.1:tspan[2]\n",
    "_xing = detect_cross_pnt(_trace, -20)\n",
    "plot(_x, _trace, legend=nothing, size=(800, 400), linewidth=3)\n",
    "hline!([-20])\n",
    "vline!(_x[_xing], linewidth=3)\n",
    "# savefig(\"export/spike_detection.pdf\")"
   ]
  },
  {
   "cell_type": "code",
   "execution_count": null,
   "metadata": {},
   "outputs": [],
   "source": [
    "plot(sol, vars=(1, 3), size=(300, 300), legend=nothing, xlabel=\"voltage\", ylabel=\"n\")"
   ]
  },
  {
   "cell_type": "code",
   "execution_count": null,
   "metadata": {},
   "outputs": [],
   "source": [
    "p = Progress(101, 1)\n",
    "u0 = [-66.0, 0.045, 0.0, 0.0]\n",
    "tspan = (0.0, 100.0)\n",
    "_trace = 0\n",
    "_result = Array{Float64, 2}(undef, 101, 0)\n",
    "\n",
    "for j = 1:101\n",
    "    _fr = Vector{Float64}()\n",
    "    for i = 1:101\n",
    "        # I ~ 5, 15; 10\n",
    "        # g_Na ~ 18, 22; 20\n",
    "        # g_K ~ 8, 12; 10\n",
    "        # m_half ~ -22, -18; -20\n",
    "        # n_half ~ -27, -23; -25\n",
    "        # m_k ~ 13, 17;15.0\n",
    "        # n_k ~ 3, 7; 5.0\n",
    "\n",
    "        _p = (I=(i-1)/5, g_Na=22, g_K=10, m_half=-20, m_k = (j-1)/50+14, n_half=-25.0, n_k=5.0)\n",
    "\n",
    "        prob = ODEProblem(persistent_sodium_plus_potassium_model, u0, tspan, _p)\n",
    "        sol = solve(prob, Tsit5(), reltol=1e-8, abstol=1e-8);\n",
    "        _trace = [item[1] for item in sol(tspan[1]:0.1:tspan[2]).u];\n",
    "\n",
    "        _x = tspan[1]:0.1:tspan[2]\n",
    "        _xing = detect_cross_pnt(_trace, -20)\n",
    "        \n",
    "        if _xing == nothing\n",
    "            _fr = [_fr; 0]\n",
    "#             println(\"zeros\")\n",
    "        else\n",
    "            _x_cross = _x[_xing]\n",
    "            _x_cross = _x_cross[_x_cross .> 40]\n",
    "            _fr = [_fr; 1e3 / mean(diff(_x_cross))]\n",
    "        end\n",
    "    end\n",
    "    _result = [_result _fr]\n",
    "    next!(p)\n",
    "end\n",
    "\n",
    "anim = @animate for _sweep_idx = 1:101\n",
    "    _title = @sprintf \"km = %.3f\" (_sweep_idx-1)/40+18\n",
    "    plot(0:0.2:20, _result[:, _sweep_idx], legend=nothing, ylim=(-1, 300),\n",
    "        title=_title, xlabel=\"input current\", ylabel=\"firing rate\", \n",
    "        color=nordtheme.frost2, linewidth=3)\n",
    "end\n",
    "gif(anim, \"export/FI_km.gif\", fps=12);\n",
    "\n",
    "plot(legend=nothing, color=:green, size=(900, 600), ylim=(-1, 300), xlabel=\"input current\", ylabel=\"firing rate\",)\n",
    "for (idx, _ridx) = enumerate(1:10:size(_result, 2))\n",
    "    plot!(0:0.2:20, _result[:, _ridx], alpha=(idx-1)/15+.6, color=nordtheme.frost2,linewidth=3)\n",
    "end\n",
    "plot!()\n",
    "savefig(\"export/FI_km.pdf\")"
   ]
  },
  {
   "cell_type": "markdown",
   "metadata": {},
   "source": [
    "---"
   ]
  },
  {
   "cell_type": "code",
   "execution_count": null,
   "metadata": {},
   "outputs": [],
   "source": [
    "p = Progress(101, 1)   \n",
    "anim = @animate for i = 1:101\n",
    "    # I ~ 5, 15; 10\n",
    "    # g_Na ~ 18, 22; 20\n",
    "    # g_K ~ 8, 12\n",
    "    # m_half ~ -22, -18; -20\n",
    "    # n_half ~ -27, -23; -25\n",
    "    # m_k ~ 13, 17;15.0\n",
    "    # n_k ~ 3, 7; 5.0\n",
    "    \n",
    "    _p = (I=(i-1)/10+5.0, g_Na=20.0, g_K=10, m_half=-20.0, m_k = 15, n_half=-25.0, n_k=5.0)\n",
    "\n",
    "    prob = ODEProblem(persistent_sodium_plus_potassium_model, u0, tspan, _p)\n",
    "    sol = solve(prob, Tsit5(), reltol=1e-8, abstol=1e-8);\n",
    "    \n",
    "\n",
    "    a = plot(sol, vars=(1), size=(800, 300), title=\"$(_p)\", legend=nothing, ylim=(-80, 20))\n",
    "    vline!([40])\n",
    "\n",
    "    plot(activationFunction(_p.m_half, _p.m_k), -100, 20, color=nordtheme.frost2, linewidth=3, xlabel=\"V\")\n",
    "    b = plot!(activationFunction(_p.n_half, _p.n_k),-100, 20, color=nordtheme.aurora2, linewidth=3, legend=nothing)\n",
    "    c = bar([\"g_Na\", \"g_K\", \"g_L\"], [_p.g_Na, _p.g_K, 8], color=[nordtheme.frost2, nordtheme.aurora2, nordtheme.aurora1], legend=nothing, ylim=(0, 25))\n",
    "    d = plot(b, c)\n",
    "\n",
    "    # plot!(sol, vars=(3))\n",
    "\n",
    "    plot(a, d, layout=@layout([a;b]), size=(800, 600))\n",
    "    next!(p)\n",
    "end\n",
    "\n",
    "gif(anim, \"./export/n_k_3_7.gif\", fps = 24);"
   ]
  },
  {
   "cell_type": "markdown",
   "metadata": {},
   "source": [
    "---"
   ]
  },
  {
   "cell_type": "code",
   "execution_count": null,
   "metadata": {},
   "outputs": [],
   "source": [
    "_p = (I=0.0, g_Na=20.0, g_K=15.0, m_half=-20.0, m_k = 15.0, n_half=-25.0, n_k=5.0)\n",
    "E_Na = 60.0\n",
    "E_K  = -90.0\n",
    "E_L  = -80.0\n",
    "g_L = 8.0\n",
    "\n",
    "m_infty = activationFunction(_p.m_half, _p.m_k)\n",
    "\n",
    "F(v, n) = _p.I - g_L * (v - E_L) - _p.g_Na * m_infty(v) * (v - E_Na) - _p.g_K * n * (v - E_K)\n",
    "G(v, n) = activationFunction(_p.n_half, _p.n_k)(v) - n\n",
    "\n",
    "_v=collect(-80:4:20)\n",
    "_n=collect(0:0.05:1)\n",
    "mesh = [repeat(_v, 1, size(_n, 1))[:] repeat(_n, 1, size(_v, 1))'[:]]\n",
    "quiver_x = zeros(size(mesh, 1))\n",
    "quiver_y = zeros(size(mesh, 1))\n",
    "\n",
    "for i = 1:size(mesh, 1)\n",
    "    quiver_x[i] = F(mesh[i,1], mesh[i,2])\n",
    "    quiver_y[i] = G(mesh[i,1], mesh[i,2])\n",
    "end\n",
    "\n",
    "_e = sqrt.(quiver_y .^ 2 .+ quiver_x.^ 2)\n",
    "# quiver_x = quiver_x ./ _e\n",
    "# quiver_y = quiver_y ./ _e;\n",
    "\n",
    "quiver(mesh[:, 1], mesh[:, 2], quiver=(quiver_x/200, quiver_y/200),\n",
    "    xlim=(-80, 20), ylim=(0, 1), size=(600,600))"
   ]
  }
 ],
 "metadata": {
  "kernelspec": {
   "display_name": "Julia 1.2.0",
   "language": "julia",
   "name": "julia-1.2"
  },
  "language_info": {
   "file_extension": ".jl",
   "mimetype": "application/julia",
   "name": "julia",
   "version": "1.2.0"
  }
 },
 "nbformat": 4,
 "nbformat_minor": 4
}
