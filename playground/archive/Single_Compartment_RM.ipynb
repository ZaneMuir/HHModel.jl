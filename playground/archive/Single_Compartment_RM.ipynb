{
 "cells": [
  {
   "cell_type": "markdown",
   "metadata": {},
   "source": [
    "TODO:\n",
    "- [ ] framework\n",
    "    - [ ] documentation\n",
    "    - Kinetics\n",
    "        - [x] reform struct with number of gates\n",
    "    - [x] simple channel -> ih, il, ina, iltk\n",
    "    - [x] copmlex channel -> ihtk, iltk\n",
    "    - [x] generic channel -> ik\n",
    "    - [x] misc\n",
    "        - [x] `function dof(channels::Vector{AbstractIonChannel})`\n",
    "        - [x] `function simpleConductanceModel(channels::Vector{AbstractIonChannel}, stim::Function)`\n",
    "- [ ] channel zoo\n",
    "    - [x] ihtk\n",
    "    - [x] ih\n",
    "    - [x] ik\n",
    "    - [x] il\n",
    "    - [x] iltk\n",
    "        - [x] regular\n",
    "        - [ ] complex\n",
    "    - [x] ina `hh_sodium`"
   ]
  },
  {
   "cell_type": "code",
   "execution_count": null,
   "metadata": {},
   "outputs": [],
   "source": [
    "using DifferentialEquations\n",
    "using Plots\n",
    "gr(fmt=\"png\", size=(800, 300))\n",
    "\n",
    "include(\"../src/HHModel.jl\")"
   ]
  },
  {
   "cell_type": "code",
   "execution_count": null,
   "metadata": {},
   "outputs": [],
   "source": [
    "# stimulus setup\n",
    "function current_step(t, param)\n",
    "    (param.start < t)&(t < param.dur + param.start) ? param.step : 0\n",
    "end"
   ]
  },
  {
   "cell_type": "markdown",
   "metadata": {},
   "source": [
    "---"
   ]
  },
  {
   "cell_type": "code",
   "execution_count": null,
   "metadata": {},
   "outputs": [],
   "source": [
    "# Biophysics setup\n",
    "# Cell Type 1\n",
    "\n",
    "ina = HHModel.hh_sodium(13.0)\n",
    "htk = HHModel.high_voltage_gated_potassium(2.8)\n",
    "ih = HHModel.ihcurrent(0.43)\n",
    "il = HHModel.leakage(0.03);\n",
    "\n",
    "_model = [ina, htk, ih, il]\n",
    "\n",
    "# create model cell\n",
    "_model_sim = HHModel.simpleConductanceModel(_model, current_step, C=0.9)"
   ]
  },
  {
   "cell_type": "code",
   "execution_count": null,
   "metadata": {},
   "outputs": [],
   "source": [
    "# Biophysics setup\n",
    "# Cell Type 2\n",
    "\n",
    "ina = HHModel.hh_sodium(13.0)\n",
    "htk = HHModel.high_voltage_gated_potassium(2.8)\n",
    "ltk = HHModel.low_voltage_gated_potassium(1.1)\n",
    "ih = HHModel.ihcurrent(0.43)\n",
    "il = HHModel.leakage(0.03);\n",
    "\n",
    "_model = [ina, htk, ltk, ih, il]\n",
    "\n",
    "# create model cell\n",
    "_model_sim = HHModel.simpleConductanceModel(_model, current_step, C=0.9)"
   ]
  },
  {
   "cell_type": "code",
   "execution_count": null,
   "metadata": {},
   "outputs": [],
   "source": [
    "# Biophysics setup\n",
    "# Cell Type 3\n",
    "\n",
    "ina = HHModel.hh_sodium(15.0)\n",
    "htk = HHModel.high_voltage_gated_potassium(1)\n",
    "ltk = HHModel.low_voltage_gated_potassium(5)\n",
    "ih = HHModel.ihcurrent(10)\n",
    "il = HHModel.leakage(0.03);\n",
    "\n",
    "_model = [ina, htk, ltk, ih, il]\n",
    "\n",
    "# create model cell\n",
    "_model_sim = HHModel.simpleConductanceModel(_model, current_step, C=0.9)"
   ]
  },
  {
   "cell_type": "markdown",
   "metadata": {},
   "source": [
    "---"
   ]
  },
  {
   "cell_type": "code",
   "execution_count": null,
   "metadata": {},
   "outputs": [],
   "source": [
    "_p = (E=(sodium=81.27, potassium=-80.78, ih=-26, leak=-65, syn=3), \n",
    "      stim=(start=200, step=-2, dur=500),)\n",
    "\n",
    "tspan = (0.0, 2000.0)\n",
    "v0 = -60.2\n",
    "u0 = HHModel.setup_init(_model, v0)\n",
    "\n",
    "prob = ODEProblem(_model_sim, u0, tspan, _p)\n",
    "@time sol = solve(prob, Tsit5(), reltol=1e-8, abstol=1e-8);\n",
    "\n",
    "plot(sol, vars=(1), legend=nothing, ylim=(-250, 80))"
   ]
  },
  {
   "cell_type": "markdown",
   "metadata": {},
   "source": [
    "---\n",
    "### test"
   ]
  },
  {
   "cell_type": "code",
   "execution_count": null,
   "metadata": {},
   "outputs": [],
   "source": [
    "not = (x) -> !x\n",
    "function simpleConductanceModel(channels::Vector{T}, stim::Function) where {T <: HHModel.AbstractIonChannel}\n",
    "    nchannel = length(channels)\n",
    "    nvar = HHModel.dof(channels)\n",
    "    \n",
    "    return (du, u, p, t) -> begin\n",
    "        v = u[1]\n",
    "        param = u[2:end-1]\n",
    "        var_idx = 1\n",
    "        \n",
    "        _current = zeros(nchannel)\n",
    "        for (idx, item) in enumerate(channels)\n",
    "            _var_step = sum(HHModel.dof(item))\n",
    "            println(item.name, \" \", _var_step)\n",
    "            println(length(param[var_idx:var_idx-1+_var_step]))\n",
    "            println(var_idx)\n",
    "            (_icurrent, _iderivitate) = HHModel.step(item, V=v, var=param[var_idx:var_idx-1+_var_step], E=p.E[item.ion])\n",
    "            _current[idx] = _icurrent\n",
    "            du[var_idx:var_idx-1+_var_step] = _iderivitate[not.(isnothing.(_iderivitate))]\n",
    "            var_idx += _var_step\n",
    "        end\n",
    "        \n",
    "        I = stim(t, p.stim)\n",
    "        du[1] = I - sum(_current)\n",
    "        u[end] = I\n",
    "        \n",
    "        du, u, p, t\n",
    "    end\n",
    "end"
   ]
  },
  {
   "cell_type": "markdown",
   "metadata": {},
   "source": [
    "---"
   ]
  },
  {
   "cell_type": "markdown",
   "metadata": {},
   "source": [
    "### generic channel\n",
    "ik"
   ]
  },
  {
   "cell_type": "code",
   "execution_count": null,
   "metadata": {},
   "outputs": [],
   "source": [
    "ik_rule = (knt, var) -> begin\n",
    "    (a,b,c) = var\n",
    "    a ^ 4 * b * c\n",
    "end\n",
    "\n",
    "_a_tau = (V) -> 100*(7*exp((V+60)/14)+29*exp(-(V+60)/24))^(-1)+0.1\n",
    "_a_infty = (V) -> (1+exp(-(V+31)/6))^(-1/4)\n",
    "_a = HHModel.Kinetics(4, _a_infty, _a_tau)\n",
    "\n",
    "_b_tau = (V) -> 1000*(14*exp((V+60)/27)+29*exp(-(V+60)/24))^(-1)+1;\n",
    "_b_infty = (V) -> (1+exp((V+66)/7))^(-1/2);\n",
    "_b = HHModel.Kinetics(1, _b_infty, _b_tau)\n",
    "\n",
    "_c_tau = (V) -> 90*(1+exp(-(V+66)/17))^(-1)+10;\n",
    "_c_infty = (V) -> (1+exp((V+66)/7))^(-1/2);\n",
    "_c = HHModel.Kinetics(1, _c_infty, _c_tau)\n",
    "\n",
    "ik = HHModel.GenericIonChannel(\"hh potassium\", :potassium,\n",
    "    10, ik_rule,\n",
    "    [_a, _b, _c]\n",
    ");"
   ]
  },
  {
   "cell_type": "code",
   "execution_count": null,
   "metadata": {},
   "outputs": [],
   "source": [
    "HHModel.step(ik, V=-10, var=[0.1, 0.2, 0.1], E=-80)"
   ]
  },
  {
   "cell_type": "markdown",
   "metadata": {},
   "source": [
    "### complex channel\n",
    "_ihtk\n"
   ]
  },
  {
   "cell_type": "code",
   "execution_count": null,
   "metadata": {},
   "outputs": [],
   "source": [
    "_n_tau = (V) -> 100*(11*exp((V+60)/24)+21*exp(-(V+60)/23))^(-1)+0.7;\n",
    "_n_infty = (V) -> (1+exp(-(V+15)/5))^(-1/2)\n",
    "_n = HHModel.Kinetics(2, _n_infty, _n_tau)\n",
    "\n",
    "_p_tau = (V) -> 100*(4*exp((V+60)/32)+5*exp(-(V+60)/22))^(-1)+5;\n",
    "_p = HHModel.Kinetics(1, -23, 6, _tau=_p_tau)\n",
    "\n",
    "ihtk = HHModel.ComplexIonChannel(\"high voltage gated potassium\", :potassium,\n",
    "       10.0, [0.5, 0.5],\n",
    "       [(_n, HHModel.Kinetics()), \n",
    "        (_p, HHModel.Kinetics())]\n",
    ");"
   ]
  },
  {
   "cell_type": "code",
   "execution_count": null,
   "metadata": {},
   "outputs": [],
   "source": [
    "HHModel.step(ihtk, V=-1, var=[0.1, 0.2], E=-80)"
   ]
  },
  {
   "cell_type": "code",
   "execution_count": null,
   "metadata": {},
   "outputs": [],
   "source": [
    "plot(ihtk.var[1][1].tau, -100, 20)"
   ]
  },
  {
   "cell_type": "markdown",
   "metadata": {},
   "source": [
    "### simple channel"
   ]
  },
  {
   "cell_type": "code",
   "execution_count": null,
   "metadata": {},
   "outputs": [],
   "source": [
    "_m_tau = (V) -> 10 / (5*exp((V+60)/18)+36*exp(-(V+60)/25))+0.04\n",
    "_m = HHModel.Kinetics(3, -38.0, 7.0, _tau = _m_tau)\n",
    "    \n",
    "_h_tau = (V) -> 100 / (7*exp((V+60)/11)+10*exp(-(V+60)/25))+0.6\n",
    "_h = HHModel.Kinetics(1, -65.0, 6.0, _tau=_h_tau, state=:inactivation)\n",
    "    \n",
    "hh_sodium = HHModel.SimpleIonChannel(\"hh sodium\", :sodium, \n",
    "        10, _m, _h);"
   ]
  },
  {
   "cell_type": "code",
   "execution_count": null,
   "metadata": {},
   "outputs": [],
   "source": [
    "HHModel.dof(hh_sodium)"
   ]
  },
  {
   "cell_type": "code",
   "execution_count": null,
   "metadata": {},
   "outputs": [],
   "source": [
    "HHModel.step(hh_sodium, V=10, var=[0.1, 0.4], E=28)"
   ]
  },
  {
   "cell_type": "code",
   "execution_count": null,
   "metadata": {},
   "outputs": [],
   "source": [
    "HHModel.dof([hh_sodium, ik, ihtk])"
   ]
  },
  {
   "cell_type": "markdown",
   "metadata": {},
   "source": [
    "---"
   ]
  },
  {
   "cell_type": "code",
   "execution_count": null,
   "metadata": {},
   "outputs": [],
   "source": [
    "ih = HHModel.ihcurrent(10);"
   ]
  },
  {
   "cell_type": "code",
   "execution_count": null,
   "metadata": {},
   "outputs": [],
   "source": [
    "plot(ih.h.infty, -150, 20)"
   ]
  },
  {
   "cell_type": "code",
   "execution_count": null,
   "metadata": {},
   "outputs": [],
   "source": [
    "ltk = HHModel.low_voltage_gated_potassium(15.0, subtype=:kv1);\n",
    "\n",
    "# plot((x) -> HHModel.time_constant(ltk.m, x), -150, 20, legend=nothing)    \n",
    "plot(ltk.m.infty, -150, 20, legend=nothing, ylim=(0, 1))"
   ]
  },
  {
   "cell_type": "code",
   "execution_count": null,
   "metadata": {},
   "outputs": [],
   "source": [
    "hhna = HHModel.hh_sodium(20);\n",
    "\n",
    "# plot(hhna.h.infty, -150, 20)\n",
    "# plot!(hhna.m.infty, -150, 20)\n",
    "plot((x) -> hhna.m.infty(x), -150, 20)"
   ]
  },
  {
   "cell_type": "code",
   "execution_count": null,
   "metadata": {},
   "outputs": [],
   "source": []
  }
 ],
 "metadata": {
  "kernelspec": {
   "display_name": "Julia 1.2.0",
   "language": "julia",
   "name": "julia-1.2"
  },
  "language_info": {
   "file_extension": ".jl",
   "mimetype": "application/julia",
   "name": "julia",
   "version": "1.2.0"
  }
 },
 "nbformat": 4,
 "nbformat_minor": 4
}
